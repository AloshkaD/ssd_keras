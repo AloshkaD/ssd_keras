{
 "cells": [
  {
   "cell_type": "code",
   "execution_count": null,
   "metadata": {
    "ExecuteTime": {
     "end_time": "2017-07-10T07:06:04.413005Z",
     "start_time": "2017-07-10T07:06:04.406104Z"
    },
    "collapsed": true
   },
   "outputs": [],
   "source": [
    "import numpy as np\n",
    "# np.random.seed(0)\n",
    "import cv2\n",
    "import matplotlib.pyplot as plt\n",
    "import pandas as pd\n",
    "from scipy.misc import imread\n",
    "from scipy.misc import imresize\n",
    "\n",
    "import pickle\n",
    "import matplotlib.image as mpimg\n",
    "from scipy.misc import imread\n",
    "from scipy.misc import imresize\n",
    "\n",
    "%matplotlib inline\n",
    "plt.rcParams['figure.figsize'] = (8, 8)\n",
    "plt.rcParams['image.interpolation'] = 'nearest'\n",
    "plt.rc('figure', figsize=(10, 10))"
   ]
  },
  {
   "cell_type": "code",
   "execution_count": null,
   "metadata": {
    "ExecuteTime": {
     "end_time": "2017-07-10T07:06:05.387219Z",
     "start_time": "2017-07-10T07:06:05.322151Z"
    },
    "collapsed": false
   },
   "outputs": [],
   "source": [
    "gt = pickle.load(open('ground-truth.pkl', 'rb'))\n",
    "gt['object-detection-crowdai/1479498371963069978.jpg']"
   ]
  },
  {
   "cell_type": "code",
   "execution_count": null,
   "metadata": {
    "ExecuteTime": {
     "end_time": "2017-07-10T07:06:06.221711Z",
     "start_time": "2017-07-10T07:06:06.217665Z"
    },
    "collapsed": false
   },
   "outputs": [],
   "source": [
    "gt['object-detection-crowdai/1479498371963069978.jpg'][:, 0]"
   ]
  },
  {
   "cell_type": "code",
   "execution_count": null,
   "metadata": {
    "ExecuteTime": {
     "end_time": "2017-07-10T07:06:07.062670Z",
     "start_time": "2017-07-10T07:06:07.033561Z"
    },
    "collapsed": false
   },
   "outputs": [],
   "source": [
    "image = mpimg.imread('resources/udacity-dataset/object-detection-crowdai/1479498371963069978.jpg')\n",
    "h, w, _ = image.shape\n",
    "image.shape"
   ]
  },
  {
   "cell_type": "code",
   "execution_count": null,
   "metadata": {
    "ExecuteTime": {
     "end_time": "2017-07-10T07:06:08.007254Z",
     "start_time": "2017-07-10T07:06:07.704174Z"
    },
    "collapsed": false
   },
   "outputs": [],
   "source": [
    "plt.imshow(image)"
   ]
  },
  {
   "cell_type": "code",
   "execution_count": null,
   "metadata": {
    "ExecuteTime": {
     "end_time": "2017-07-10T07:07:37.146786Z",
     "start_time": "2017-07-10T07:07:37.134769Z"
    },
    "collapsed": true
   },
   "outputs": [],
   "source": [
    "def draw_each(img, bboxes):\n",
    "    for bbox in bboxes:\n",
    "        xmin = int(round(bbox[0] * img.shape[1]))\n",
    "        ymin = int(round(bbox[1] * img.shape[0]))\n",
    "        xmax = int(round(bbox[2] * img.shape[1]))\n",
    "        ymax = int(round(bbox[3] * img.shape[0]))\n",
    "        cv2.rectangle(img, (xmin, ymin), (xmax, ymax),(0, 255, 0), 1)\n",
    "    return img\n",
    "\n",
    "def draw(org_img, org_bboxes, trans_img, trans_bboxes):\n",
    "    fig = plt.figure(figsize=(30, 25))\n",
    "    fig_dims = (1, 2)\n",
    "    ax1 = plt.subplot2grid(fig_dims, (0, 0))\n",
    "    ax1.set_title('original')\n",
    "    ax1.imshow(draw_each(org_img, org_bboxes))\n",
    "    \n",
    "    ax2 = plt.subplot2grid(fig_dims, (0, 1))\n",
    "    ax2.set_title('augmented')\n",
    "    ax2.imshow(draw_each(trans_img, trans_bboxes))\n",
    "    plt.show()"
   ]
  },
  {
   "cell_type": "code",
   "execution_count": null,
   "metadata": {
    "ExecuteTime": {
     "end_time": "2017-07-10T07:06:10.559330Z",
     "start_time": "2017-07-10T07:06:10.551051Z"
    },
    "collapsed": true
   },
   "outputs": [],
   "source": [
    "def denormalize(img, annotations):\n",
    "    h, w, _ = img.shape\n",
    "    annotations = np.copy(annotations)\n",
    "    annotations[:, 0] = annotations[:, 0] * w\n",
    "    annotations[:, 2] = annotations[:, 2] * w\n",
    "    annotations[:, 1] = annotations[:, 1] * h\n",
    "    annotations[:, 3] = annotations[:, 3] * h\n",
    "    return annotations\n",
    "\n",
    "def normalize(img, annotations):\n",
    "    h, w, _ = img.shape\n",
    "    annotations = np.copy(annotations)\n",
    "    annotations[:, 0] = annotations[:, 0] / w\n",
    "    annotations[:, 2] = annotations[:, 2] / w\n",
    "    annotations[:, 1] = annotations[:, 1] / h\n",
    "    annotations[:, 3] = annotations[:, 3] / h\n",
    "    return annotations"
   ]
  },
  {
   "cell_type": "markdown",
   "metadata": {},
   "source": [
    "## Image Translation"
   ]
  },
  {
   "cell_type": "code",
   "execution_count": null,
   "metadata": {
    "ExecuteTime": {
     "end_time": "2017-07-10T07:06:12.916542Z",
     "start_time": "2017-07-10T07:06:11.761025Z"
    },
    "collapsed": false
   },
   "outputs": [],
   "source": [
    "def translate(img, annotations, trans_range=20):\n",
    "    # Translation augmentation\n",
    "    annotations = np.copy(annotations)\n",
    "    h, w, _ = img.shape\n",
    "    tr_x = trans_range * np.random.uniform() - trans_range/2\n",
    "    tr_y = trans_range * np.random.uniform() - trans_range/2\n",
    "\n",
    "    Trans_M = np.float32([[1, 0, tr_x], [0, 1, tr_y]])\n",
    "    \n",
    "    annotations[:, 0] = annotations[:, 0] + tr_x # xmin\n",
    "    annotations[:, 2] = annotations[:, 2] + tr_x # xmax\n",
    "    annotations[:, 1] = annotations[:, 1] + tr_y # ymin\n",
    "    annotations[:, 3] = annotations[:, 3] + tr_y # ymax\n",
    "    \n",
    "    img_translated = cv2.warpAffine(img, Trans_M, (w, h))\n",
    "\n",
    "    return img_translated, annotations\n",
    "\n",
    "image = mpimg.imread('resources/udacity-dataset/object-detection-crowdai/1479498371963069978.jpg')\n",
    "annotations = gt['object-detection-crowdai/1479498371963069978.jpg']\n",
    "img_tr, bboxes_tr = translate(image, denormalize(image, annotations), trans_range=200)\n",
    "bboxes_tr = normalize(img_tr, bboxes_tr)\n",
    "draw(image, annotations, img_tr, bboxes_tr)"
   ]
  },
  {
   "cell_type": "markdown",
   "metadata": {
    "ExecuteTime": {
     "end_time": "2017-07-10T01:10:58.880339Z",
     "start_time": "2017-07-10T01:10:57.559163Z"
    }
   },
   "source": [
    "## Image Stretching"
   ]
  },
  {
   "cell_type": "code",
   "execution_count": null,
   "metadata": {
    "ExecuteTime": {
     "end_time": "2017-07-10T07:06:18.383289Z",
     "start_time": "2017-07-10T07:06:17.258834Z"
    },
    "collapsed": false
   },
   "outputs": [],
   "source": [
    "def stretch(img, annotations, scale_range=50):\n",
    "    # Stretching augmentation \n",
    "    annotations = np.copy(annotations)\n",
    "    tr_x1 = scale_range * np.random.uniform()\n",
    "    tr_y1 = scale_range * np.random.uniform()\n",
    "    p1 = (tr_x1, tr_y1)\n",
    "    tr_x2 = scale_range * np.random.uniform()\n",
    "    tr_y2 = scale_range * np.random.uniform()\n",
    "    p2 = (img.shape[1] - tr_x2, tr_y1)\n",
    "\n",
    "    p3 = (img.shape[1] - tr_x2, img.shape[0] - tr_y2)\n",
    "    p4 = (tr_x1, img.shape[0] - tr_y2)\n",
    "\n",
    "    pts1 = np.float32([[p1[0], p1[1]], \n",
    "                       [p2[0], p2[1]],\n",
    "                       [p3[0], p3[1]], \n",
    "                       [p4[0], p4[1]]])\n",
    "    pts2 = np.float32([[0, 0],\n",
    "                       [img.shape[1], 0], \n",
    "                       [img.shape[1], img.shape[0]],\n",
    "                       [0, img.shape[0]]])\n",
    "\n",
    "    M = cv2.getPerspectiveTransform(pts1, pts2)\n",
    "    img = cv2.warpPerspective(img, M, (img.shape[1], img.shape[0]))\n",
    "    img = np.array(img, dtype=np.uint8)\n",
    "    \n",
    "    annotations[:, 0] = (annotations[:, 0] - p1[0]) / (p2[0] - p1[0]) * img.shape[1] # xmin\n",
    "    annotations[:, 2] = (annotations[:, 2] - p1[0]) / (p2[0] - p1[0]) * img.shape[1] # xmax\n",
    "    annotations[:, 1] = (annotations[:, 1] - p1[1]) / (p3[1] - p1[1]) * img.shape[0] # ymin\n",
    "    annotations[:, 3] = (annotations[:, 3] - p1[1]) / (p3[1] - p1[1]) * img.shape[0] # ymax\n",
    "    \n",
    "    return img, annotations\n",
    "\n",
    "image = mpimg.imread('resources/udacity-dataset/object-detection-crowdai/1479498371963069978.jpg')\n",
    "annotations = gt['object-detection-crowdai/1479498371963069978.jpg']\n",
    "img_scaled, annotations_scaled = stretch(image, denormalize(image, annotations), 10)\n",
    "annotations_scaled = normalize(img_scaled, annotations_scaled)\n",
    "\n",
    "draw(image, annotations, img_scaled, annotations_scaled)"
   ]
  },
  {
   "cell_type": "markdown",
   "metadata": {},
   "source": [
    "## Horizontal Flip"
   ]
  },
  {
   "cell_type": "code",
   "execution_count": null,
   "metadata": {
    "ExecuteTime": {
     "end_time": "2017-07-10T07:06:20.181336Z",
     "start_time": "2017-07-10T07:06:19.097094Z"
    },
    "collapsed": false
   },
   "outputs": [],
   "source": [
    "def horizontal_flip(img, y):\n",
    "    img = img[:, ::-1]\n",
    "    y[:, [0, 2]] = 1 - y[:, [2, 0]]\n",
    "    return (img, y)\n",
    "\n",
    "image = mpimg.imread('resources/udacity-dataset/object-detection-crowdai/1479498371963069978.jpg')\n",
    "annotations = gt['object-detection-crowdai/1479498371963069978.jpg']\n",
    "image_flipped, annotations_flipped = horizontal_flip(image, np.copy(annotations))\n",
    "draw(image, annotations, np.array(image_flipped), annotations_flipped)"
   ]
  },
  {
   "cell_type": "markdown",
   "metadata": {},
   "source": [
    "## Brightness"
   ]
  },
  {
   "cell_type": "code",
   "execution_count": null,
   "metadata": {
    "ExecuteTime": {
     "end_time": "2017-07-10T07:06:32.140824Z",
     "start_time": "2017-07-10T07:06:31.092892Z"
    },
    "collapsed": false
   },
   "outputs": [],
   "source": [
    "def brightness(image):\n",
    "#     alpha = randint(1, 5) \n",
    "#     beta = randint(-100, 100) \n",
    "#     result = cv2.addWeighted(rgb, alpha, np.zeros(rgb.shape, rgb.dtype), 0, beta) \n",
    "#     return np.clip(result, 0, 255)\n",
    "    img = cv2.cvtColor(image,cv2.COLOR_RGB2HSV)\n",
    "    img = np.array(img, dtype = np.float64)\n",
    "    random_bright = .5 + np.random.uniform()\n",
    "    img[:, :, 2] = img[:, :, 2] * random_bright\n",
    "    img[:, :, 2][img[:, :, 2] > 255]  = 255\n",
    "    img = np.array(img, dtype = np.uint8)\n",
    "    img = cv2.cvtColor(img, cv2.COLOR_HSV2RGB)\n",
    "    return img\n",
    "\n",
    "image = mpimg.imread('resources/udacity-dataset/object-detection-crowdai/1479498371963069978.jpg')\n",
    "annotations = gt['object-detection-crowdai/1479498371963069978.jpg']\n",
    "image_b = brightness(np.copy(image))\n",
    "annotations_b = np.copy(annotations)\n",
    "draw(image, annotations, image_b, annotations_b)"
   ]
  },
  {
   "cell_type": "markdown",
   "metadata": {},
   "source": [
    "## Combination"
   ]
  },
  {
   "cell_type": "code",
   "execution_count": null,
   "metadata": {
    "ExecuteTime": {
     "end_time": "2017-07-10T07:06:36.434293Z",
     "start_time": "2017-07-10T07:06:35.318833Z"
    },
    "collapsed": false
   },
   "outputs": [],
   "source": [
    "image = mpimg.imread('resources/udacity-dataset/object-detection-crowdai/1479498371963069978.jpg')\n",
    "annotations = gt['object-detection-crowdai/1479498371963069978.jpg']\n",
    "image_augmented, annotations_augmented = translate(image, denormalize(image, annotations), trans_range=100)\n",
    "image_augmented, annotations_augmented = stretch(image_augmented, annotations_augmented, 100)\n",
    "annotations_augmented = normalize(image_augmented, annotations_augmented)\n",
    "image_augmented, annotations_augmented = horizontal_flip(image_augmented, annotations_augmented)\n",
    "\n",
    "draw(image, annotations, np.array(image_augmented), annotations_augmented)"
   ]
  },
  {
   "cell_type": "code",
   "execution_count": null,
   "metadata": {
    "ExecuteTime": {
     "end_time": "2017-07-10T07:06:43.220369Z",
     "start_time": "2017-07-10T07:06:42.135382Z"
    },
    "collapsed": false
   },
   "outputs": [],
   "source": [
    "image = mpimg.imread('resources/udacity-dataset/object-detection-crowdai/1479498397956718105.jpg')\n",
    "annotations = gt['object-detection-crowdai/1479498397956718105.jpg']\n",
    "image_augmented, annotations_augmented = translate(image, denormalize(image, annotations), trans_range=200)\n",
    "image_augmented, annotations_augmented = stretch(image_augmented, annotations_augmented, 200)\n",
    "annotations_augmented = normalize(image_augmented, annotations_augmented)\n",
    "image_augmented, annotations_augmented = horizontal_flip(image_augmented, annotations_augmented)\n",
    "\n",
    "draw(image, annotations, np.array(image_augmented), annotations_augmented)"
   ]
  },
  {
   "cell_type": "code",
   "execution_count": null,
   "metadata": {
    "ExecuteTime": {
     "end_time": "2017-07-10T07:06:45.716102Z",
     "start_time": "2017-07-10T07:06:44.627388Z"
    },
    "collapsed": false
   },
   "outputs": [],
   "source": [
    "image = mpimg.imread('resources/udacity-dataset/object-detection-crowdai/1479502217225257061.jpg')\n",
    "annotations = gt['object-detection-crowdai/1479502217225257061.jpg']\n",
    "image_augmented, annotations_augmented = translate(image, denormalize(image, annotations), trans_range=200)\n",
    "image_augmented, annotations_augmented = stretch(image_augmented, annotations_augmented, 200)\n",
    "annotations_augmented = normalize(image_augmented, annotations_augmented)\n",
    "image_augmented, annotations_augmented = horizontal_flip(image_augmented, annotations_augmented)\n",
    "\n",
    "draw(image, annotations, np.array(image_augmented), annotations_augmented)"
   ]
  },
  {
   "cell_type": "code",
   "execution_count": null,
   "metadata": {
    "ExecuteTime": {
     "end_time": "2017-07-10T07:06:52.378655Z",
     "start_time": "2017-07-10T07:06:51.199411Z"
    },
    "collapsed": false
   },
   "outputs": [],
   "source": [
    "image = mpimg.imread('resources/udacity-dataset/object-detection-crowdai/1479503036282378933.jpg')\n",
    "annotations = gt['object-detection-crowdai/1479503036282378933.jpg']\n",
    "image_augmented, annotations_augmented = translate(image, denormalize(image, annotations), trans_range=200)\n",
    "image_augmented, annotations_augmented = stretch(image_augmented, annotations_augmented, 200)\n",
    "annotations_augmented = normalize(image_augmented, annotations_augmented)\n",
    "image_augmented, annotations_augmented = horizontal_flip(image_augmented, annotations_augmented)\n",
    "\n",
    "draw(image, annotations, np.array(image_augmented), annotations_augmented)"
   ]
  },
  {
   "cell_type": "code",
   "execution_count": null,
   "metadata": {
    "ExecuteTime": {
     "end_time": "2017-07-10T07:06:57.509000Z",
     "start_time": "2017-07-10T07:06:56.434757Z"
    },
    "collapsed": false
   },
   "outputs": [],
   "source": [
    "image = mpimg.imread('resources/udacity-dataset/object-dataset/1478019959681353555.jpg')\n",
    "annotations = gt['object-dataset/1478019959681353555.jpg']\n",
    "image_augmented, annotations_augmented = translate(image, denormalize(image, annotations), trans_range=200)\n",
    "image_augmented, annotations_augmented = stretch(image_augmented, annotations_augmented, 200)\n",
    "annotations_augmented = normalize(image_augmented, annotations_augmented)\n",
    "image_augmented, annotations_augmented = horizontal_flip(image_augmented, annotations_augmented)\n",
    "\n",
    "draw(image, annotations, np.array(image_augmented), annotations_augmented)"
   ]
  },
  {
   "cell_type": "code",
   "execution_count": null,
   "metadata": {
    "ExecuteTime": {
     "end_time": "2017-07-10T07:08:19.474377Z",
     "start_time": "2017-07-10T07:08:18.701433Z"
    },
    "collapsed": false
   },
   "outputs": [],
   "source": [
    "image = imread('resources/udacity-dataset/object-dataset/1478901535246276321.jpg')\n",
    "image = imresize(image, (300, 300))\n",
    "annotations = gt['object-dataset/1478901535246276321.jpg']\n",
    "image_augmented, annotations_augmented = translate(image, denormalize(image, annotations), trans_range=10)\n",
    "image_augmented, annotations_augmented = stretch(image_augmented, annotations_augmented, 10)\n",
    "annotations_augmented = normalize(image_augmented, annotations_augmented)\n",
    "image_augmented, annotations_augmented = horizontal_flip(image_augmented, annotations_augmented)\n",
    "\n",
    "draw(image, annotations, np.array(image_augmented), annotations_augmented)"
   ]
  },
  {
   "cell_type": "code",
   "execution_count": null,
   "metadata": {
    "ExecuteTime": {
     "end_time": "2017-07-10T07:09:03.544460Z",
     "start_time": "2017-07-10T07:09:02.774633Z"
    },
    "collapsed": false
   },
   "outputs": [],
   "source": [
    "image = imread('resources/udacity-dataset/object-dataset/1478901532389636298.jpg')\n",
    "image = imresize(image, (300, 300))\n",
    "annotations = gt['object-dataset/1478901532389636298.jpg']\n",
    "image_augmented, annotations_augmented = translate(image, denormalize(image, annotations), trans_range=10)\n",
    "image_augmented, annotations_augmented = stretch(image_augmented, annotations_augmented, 10)\n",
    "annotations_augmented = normalize(image_augmented, annotations_augmented)\n",
    "image_augmented, annotations_augmented = horizontal_flip(image_augmented, annotations_augmented)\n",
    "\n",
    "draw(image, annotations, np.array(image_augmented), annotations_augmented)"
   ]
  },
  {
   "cell_type": "code",
   "execution_count": null,
   "metadata": {
    "collapsed": true
   },
   "outputs": [],
   "source": []
  }
 ],
 "metadata": {
  "kernelspec": {
   "display_name": "Python 3",
   "language": "python",
   "name": "python3"
  },
  "language_info": {
   "codemirror_mode": {
    "name": "ipython",
    "version": 3
   },
   "file_extension": ".py",
   "mimetype": "text/x-python",
   "name": "python",
   "nbconvert_exporter": "python",
   "pygments_lexer": "ipython3",
   "version": "3.6.0"
  }
 },
 "nbformat": 4,
 "nbformat_minor": 2
}
